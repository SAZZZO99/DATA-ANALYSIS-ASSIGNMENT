{
  "nbformat": 4,
  "nbformat_minor": 0,
  "metadata": {
    "kernelspec": {
      "name": "python3",
      "display_name": "Python 3",
      "language": "python"
    },
    "language_info": {
      "name": "python",
      "version": "3.7.6",
      "mimetype": "text/x-python",
      "codemirror_mode": {
        "name": "ipython",
        "version": 3
      },
      "pygments_lexer": "ipython3",
      "nbconvert_exporter": "python",
      "file_extension": ".py"
    },
    "colab": {
      "name": "airbnb-pandas-assignment.ipynb",
      "provenance": []
    }
  },
  "cells": [
    {
      "cell_type": "markdown",
      "metadata": {
        "id": "6z98mby8b_63",
        "colab_type": "text"
      },
      "source": [
        "1.Find outliers from at least 2 columns, where outliers can be defined as an observation that lies an abnormal distance from other values in a random sample from a population.\n",
        "Choose and plot one graph for each column which best represents the outliers in the data.\n",
        "A brief explanation on the selection of the graph and about the plot.\n",
        "\n",
        "Hints :-\n",
        "* Use pandas describe() to get the overview of numeric columns needed to inspect for outliers.\n",
        "* Recall the plots used for showing outliers at a glance.\n",
        "* Plot with seaborn/matplotlib.\n"
      ]
    },
    {
      "cell_type": "code",
      "metadata": {
        "_uuid": "8f2839f25d086af736a60e9eeb907d3b93b6e0e5",
        "_cell_guid": "b1076dfc-b9ad-4769-8c92-a6c4dae69d19",
        "trusted": true,
        "id": "A06PnhIab_64",
        "colab_type": "code",
        "colab": {}
      },
      "source": [
        "import numpy as np\n",
        "import pandas as pd\n",
        "import matplotlib.pyplot as plt\n",
        "import matplotlib.image as mpimg\n",
        "%matplotlib inline\n",
        "import seaborn as sns"
      ],
      "execution_count": null,
      "outputs": []
    },
    {
      "cell_type": "code",
      "metadata": {
        "_uuid": "d629ff2d2480ee46fbb7e2d37f6b5fab8052498a",
        "_cell_guid": "79c7e3d0-c299-4dcb-8224-4455121ee9b0",
        "trusted": true,
        "id": "KRbbPxIQb_69",
        "colab_type": "code",
        "colab": {},
        "outputId": "49fa4057-2043-4d31-b576-79f0fb2fe7bd"
      },
      "source": [
        "airbnb=pd.read_csv(\"../input/new-york-city-airbnb-open-data/AB_NYC_2019.csv\")\n",
        "airbnb.head(10)"
      ],
      "execution_count": null,
      "outputs": [
        {
          "output_type": "execute_result",
          "data": {
            "text/plain": [
              "     id                                              name  host_id  \\\n",
              "0  2539                Clean & quiet apt home by the park     2787   \n",
              "1  2595                             Skylit Midtown Castle     2845   \n",
              "2  3647               THE VILLAGE OF HARLEM....NEW YORK !     4632   \n",
              "3  3831                   Cozy Entire Floor of Brownstone     4869   \n",
              "4  5022  Entire Apt: Spacious Studio/Loft by central park     7192   \n",
              "5  5099         Large Cozy 1 BR Apartment In Midtown East     7322   \n",
              "6  5121                                   BlissArtsSpace!     7356   \n",
              "7  5178                  Large Furnished Room Near B'way      8967   \n",
              "8  5203                Cozy Clean Guest Room - Family Apt     7490   \n",
              "9  5238                Cute & Cozy Lower East Side 1 bdrm     7549   \n",
              "\n",
              "     host_name neighbourhood_group       neighbourhood  latitude  longitude  \\\n",
              "0         John            Brooklyn          Kensington  40.64749  -73.97237   \n",
              "1     Jennifer           Manhattan             Midtown  40.75362  -73.98377   \n",
              "2    Elisabeth           Manhattan              Harlem  40.80902  -73.94190   \n",
              "3  LisaRoxanne            Brooklyn        Clinton Hill  40.68514  -73.95976   \n",
              "4        Laura           Manhattan         East Harlem  40.79851  -73.94399   \n",
              "5        Chris           Manhattan         Murray Hill  40.74767  -73.97500   \n",
              "6        Garon            Brooklyn  Bedford-Stuyvesant  40.68688  -73.95596   \n",
              "7     Shunichi           Manhattan      Hell's Kitchen  40.76489  -73.98493   \n",
              "8    MaryEllen           Manhattan     Upper West Side  40.80178  -73.96723   \n",
              "9          Ben           Manhattan           Chinatown  40.71344  -73.99037   \n",
              "\n",
              "         room_type  price  minimum_nights  number_of_reviews last_review  \\\n",
              "0     Private room    149               1                  9  2018-10-19   \n",
              "1  Entire home/apt    225               1                 45  2019-05-21   \n",
              "2     Private room    150               3                  0         NaN   \n",
              "3  Entire home/apt     89               1                270  2019-07-05   \n",
              "4  Entire home/apt     80              10                  9  2018-11-19   \n",
              "5  Entire home/apt    200               3                 74  2019-06-22   \n",
              "6     Private room     60              45                 49  2017-10-05   \n",
              "7     Private room     79               2                430  2019-06-24   \n",
              "8     Private room     79               2                118  2017-07-21   \n",
              "9  Entire home/apt    150               1                160  2019-06-09   \n",
              "\n",
              "   reviews_per_month  calculated_host_listings_count  availability_365  \n",
              "0               0.21                               6               365  \n",
              "1               0.38                               2               355  \n",
              "2                NaN                               1               365  \n",
              "3               4.64                               1               194  \n",
              "4               0.10                               1                 0  \n",
              "5               0.59                               1               129  \n",
              "6               0.40                               1                 0  \n",
              "7               3.47                               1               220  \n",
              "8               0.99                               1                 0  \n",
              "9               1.33                               4               188  "
            ],
            "text/html": [
              "<div>\n",
              "<style scoped>\n",
              "    .dataframe tbody tr th:only-of-type {\n",
              "        vertical-align: middle;\n",
              "    }\n",
              "\n",
              "    .dataframe tbody tr th {\n",
              "        vertical-align: top;\n",
              "    }\n",
              "\n",
              "    .dataframe thead th {\n",
              "        text-align: right;\n",
              "    }\n",
              "</style>\n",
              "<table border=\"1\" class=\"dataframe\">\n",
              "  <thead>\n",
              "    <tr style=\"text-align: right;\">\n",
              "      <th></th>\n",
              "      <th>id</th>\n",
              "      <th>name</th>\n",
              "      <th>host_id</th>\n",
              "      <th>host_name</th>\n",
              "      <th>neighbourhood_group</th>\n",
              "      <th>neighbourhood</th>\n",
              "      <th>latitude</th>\n",
              "      <th>longitude</th>\n",
              "      <th>room_type</th>\n",
              "      <th>price</th>\n",
              "      <th>minimum_nights</th>\n",
              "      <th>number_of_reviews</th>\n",
              "      <th>last_review</th>\n",
              "      <th>reviews_per_month</th>\n",
              "      <th>calculated_host_listings_count</th>\n",
              "      <th>availability_365</th>\n",
              "    </tr>\n",
              "  </thead>\n",
              "  <tbody>\n",
              "    <tr>\n",
              "      <th>0</th>\n",
              "      <td>2539</td>\n",
              "      <td>Clean &amp; quiet apt home by the park</td>\n",
              "      <td>2787</td>\n",
              "      <td>John</td>\n",
              "      <td>Brooklyn</td>\n",
              "      <td>Kensington</td>\n",
              "      <td>40.64749</td>\n",
              "      <td>-73.97237</td>\n",
              "      <td>Private room</td>\n",
              "      <td>149</td>\n",
              "      <td>1</td>\n",
              "      <td>9</td>\n",
              "      <td>2018-10-19</td>\n",
              "      <td>0.21</td>\n",
              "      <td>6</td>\n",
              "      <td>365</td>\n",
              "    </tr>\n",
              "    <tr>\n",
              "      <th>1</th>\n",
              "      <td>2595</td>\n",
              "      <td>Skylit Midtown Castle</td>\n",
              "      <td>2845</td>\n",
              "      <td>Jennifer</td>\n",
              "      <td>Manhattan</td>\n",
              "      <td>Midtown</td>\n",
              "      <td>40.75362</td>\n",
              "      <td>-73.98377</td>\n",
              "      <td>Entire home/apt</td>\n",
              "      <td>225</td>\n",
              "      <td>1</td>\n",
              "      <td>45</td>\n",
              "      <td>2019-05-21</td>\n",
              "      <td>0.38</td>\n",
              "      <td>2</td>\n",
              "      <td>355</td>\n",
              "    </tr>\n",
              "    <tr>\n",
              "      <th>2</th>\n",
              "      <td>3647</td>\n",
              "      <td>THE VILLAGE OF HARLEM....NEW YORK !</td>\n",
              "      <td>4632</td>\n",
              "      <td>Elisabeth</td>\n",
              "      <td>Manhattan</td>\n",
              "      <td>Harlem</td>\n",
              "      <td>40.80902</td>\n",
              "      <td>-73.94190</td>\n",
              "      <td>Private room</td>\n",
              "      <td>150</td>\n",
              "      <td>3</td>\n",
              "      <td>0</td>\n",
              "      <td>NaN</td>\n",
              "      <td>NaN</td>\n",
              "      <td>1</td>\n",
              "      <td>365</td>\n",
              "    </tr>\n",
              "    <tr>\n",
              "      <th>3</th>\n",
              "      <td>3831</td>\n",
              "      <td>Cozy Entire Floor of Brownstone</td>\n",
              "      <td>4869</td>\n",
              "      <td>LisaRoxanne</td>\n",
              "      <td>Brooklyn</td>\n",
              "      <td>Clinton Hill</td>\n",
              "      <td>40.68514</td>\n",
              "      <td>-73.95976</td>\n",
              "      <td>Entire home/apt</td>\n",
              "      <td>89</td>\n",
              "      <td>1</td>\n",
              "      <td>270</td>\n",
              "      <td>2019-07-05</td>\n",
              "      <td>4.64</td>\n",
              "      <td>1</td>\n",
              "      <td>194</td>\n",
              "    </tr>\n",
              "    <tr>\n",
              "      <th>4</th>\n",
              "      <td>5022</td>\n",
              "      <td>Entire Apt: Spacious Studio/Loft by central park</td>\n",
              "      <td>7192</td>\n",
              "      <td>Laura</td>\n",
              "      <td>Manhattan</td>\n",
              "      <td>East Harlem</td>\n",
              "      <td>40.79851</td>\n",
              "      <td>-73.94399</td>\n",
              "      <td>Entire home/apt</td>\n",
              "      <td>80</td>\n",
              "      <td>10</td>\n",
              "      <td>9</td>\n",
              "      <td>2018-11-19</td>\n",
              "      <td>0.10</td>\n",
              "      <td>1</td>\n",
              "      <td>0</td>\n",
              "    </tr>\n",
              "    <tr>\n",
              "      <th>5</th>\n",
              "      <td>5099</td>\n",
              "      <td>Large Cozy 1 BR Apartment In Midtown East</td>\n",
              "      <td>7322</td>\n",
              "      <td>Chris</td>\n",
              "      <td>Manhattan</td>\n",
              "      <td>Murray Hill</td>\n",
              "      <td>40.74767</td>\n",
              "      <td>-73.97500</td>\n",
              "      <td>Entire home/apt</td>\n",
              "      <td>200</td>\n",
              "      <td>3</td>\n",
              "      <td>74</td>\n",
              "      <td>2019-06-22</td>\n",
              "      <td>0.59</td>\n",
              "      <td>1</td>\n",
              "      <td>129</td>\n",
              "    </tr>\n",
              "    <tr>\n",
              "      <th>6</th>\n",
              "      <td>5121</td>\n",
              "      <td>BlissArtsSpace!</td>\n",
              "      <td>7356</td>\n",
              "      <td>Garon</td>\n",
              "      <td>Brooklyn</td>\n",
              "      <td>Bedford-Stuyvesant</td>\n",
              "      <td>40.68688</td>\n",
              "      <td>-73.95596</td>\n",
              "      <td>Private room</td>\n",
              "      <td>60</td>\n",
              "      <td>45</td>\n",
              "      <td>49</td>\n",
              "      <td>2017-10-05</td>\n",
              "      <td>0.40</td>\n",
              "      <td>1</td>\n",
              "      <td>0</td>\n",
              "    </tr>\n",
              "    <tr>\n",
              "      <th>7</th>\n",
              "      <td>5178</td>\n",
              "      <td>Large Furnished Room Near B'way</td>\n",
              "      <td>8967</td>\n",
              "      <td>Shunichi</td>\n",
              "      <td>Manhattan</td>\n",
              "      <td>Hell's Kitchen</td>\n",
              "      <td>40.76489</td>\n",
              "      <td>-73.98493</td>\n",
              "      <td>Private room</td>\n",
              "      <td>79</td>\n",
              "      <td>2</td>\n",
              "      <td>430</td>\n",
              "      <td>2019-06-24</td>\n",
              "      <td>3.47</td>\n",
              "      <td>1</td>\n",
              "      <td>220</td>\n",
              "    </tr>\n",
              "    <tr>\n",
              "      <th>8</th>\n",
              "      <td>5203</td>\n",
              "      <td>Cozy Clean Guest Room - Family Apt</td>\n",
              "      <td>7490</td>\n",
              "      <td>MaryEllen</td>\n",
              "      <td>Manhattan</td>\n",
              "      <td>Upper West Side</td>\n",
              "      <td>40.80178</td>\n",
              "      <td>-73.96723</td>\n",
              "      <td>Private room</td>\n",
              "      <td>79</td>\n",
              "      <td>2</td>\n",
              "      <td>118</td>\n",
              "      <td>2017-07-21</td>\n",
              "      <td>0.99</td>\n",
              "      <td>1</td>\n",
              "      <td>0</td>\n",
              "    </tr>\n",
              "    <tr>\n",
              "      <th>9</th>\n",
              "      <td>5238</td>\n",
              "      <td>Cute &amp; Cozy Lower East Side 1 bdrm</td>\n",
              "      <td>7549</td>\n",
              "      <td>Ben</td>\n",
              "      <td>Manhattan</td>\n",
              "      <td>Chinatown</td>\n",
              "      <td>40.71344</td>\n",
              "      <td>-73.99037</td>\n",
              "      <td>Entire home/apt</td>\n",
              "      <td>150</td>\n",
              "      <td>1</td>\n",
              "      <td>160</td>\n",
              "      <td>2019-06-09</td>\n",
              "      <td>1.33</td>\n",
              "      <td>4</td>\n",
              "      <td>188</td>\n",
              "    </tr>\n",
              "  </tbody>\n",
              "</table>\n",
              "</div>"
            ]
          },
          "metadata": {
            "tags": []
          },
          "execution_count": 2
        }
      ]
    },
    {
      "cell_type": "code",
      "metadata": {
        "trusted": true,
        "id": "jHGMtAvqb_7C",
        "colab_type": "code",
        "colab": {},
        "outputId": "1813fef2-4f52-4b31-8dcd-e45fa7555d20"
      },
      "source": [
        "print(len(airbnb))"
      ],
      "execution_count": null,
      "outputs": [
        {
          "output_type": "stream",
          "text": [
            "48895\n"
          ],
          "name": "stdout"
        }
      ]
    },
    {
      "cell_type": "code",
      "metadata": {
        "trusted": true,
        "id": "-ZL_gzETb_7F",
        "colab_type": "code",
        "colab": {},
        "outputId": "cf201426-b656-465a-c4dc-82603ed675f1"
      },
      "source": [
        "airbnb.describe()"
      ],
      "execution_count": null,
      "outputs": [
        {
          "output_type": "execute_result",
          "data": {
            "text/plain": [
              "                 id       host_id      latitude     longitude         price  \\\n",
              "count  4.889500e+04  4.889500e+04  48895.000000  48895.000000  48895.000000   \n",
              "mean   1.901714e+07  6.762001e+07     40.728949    -73.952170    152.720687   \n",
              "std    1.098311e+07  7.861097e+07      0.054530      0.046157    240.154170   \n",
              "min    2.539000e+03  2.438000e+03     40.499790    -74.244420      0.000000   \n",
              "25%    9.471945e+06  7.822033e+06     40.690100    -73.983070     69.000000   \n",
              "50%    1.967728e+07  3.079382e+07     40.723070    -73.955680    106.000000   \n",
              "75%    2.915218e+07  1.074344e+08     40.763115    -73.936275    175.000000   \n",
              "max    3.648724e+07  2.743213e+08     40.913060    -73.712990  10000.000000   \n",
              "\n",
              "       minimum_nights  number_of_reviews  reviews_per_month  \\\n",
              "count    48895.000000       48895.000000       38843.000000   \n",
              "mean         7.029962          23.274466           1.373221   \n",
              "std         20.510550          44.550582           1.680442   \n",
              "min          1.000000           0.000000           0.010000   \n",
              "25%          1.000000           1.000000           0.190000   \n",
              "50%          3.000000           5.000000           0.720000   \n",
              "75%          5.000000          24.000000           2.020000   \n",
              "max       1250.000000         629.000000          58.500000   \n",
              "\n",
              "       calculated_host_listings_count  availability_365  \n",
              "count                    48895.000000      48895.000000  \n",
              "mean                         7.143982        112.781327  \n",
              "std                         32.952519        131.622289  \n",
              "min                          1.000000          0.000000  \n",
              "25%                          1.000000          0.000000  \n",
              "50%                          1.000000         45.000000  \n",
              "75%                          2.000000        227.000000  \n",
              "max                        327.000000        365.000000  "
            ],
            "text/html": [
              "<div>\n",
              "<style scoped>\n",
              "    .dataframe tbody tr th:only-of-type {\n",
              "        vertical-align: middle;\n",
              "    }\n",
              "\n",
              "    .dataframe tbody tr th {\n",
              "        vertical-align: top;\n",
              "    }\n",
              "\n",
              "    .dataframe thead th {\n",
              "        text-align: right;\n",
              "    }\n",
              "</style>\n",
              "<table border=\"1\" class=\"dataframe\">\n",
              "  <thead>\n",
              "    <tr style=\"text-align: right;\">\n",
              "      <th></th>\n",
              "      <th>id</th>\n",
              "      <th>host_id</th>\n",
              "      <th>latitude</th>\n",
              "      <th>longitude</th>\n",
              "      <th>price</th>\n",
              "      <th>minimum_nights</th>\n",
              "      <th>number_of_reviews</th>\n",
              "      <th>reviews_per_month</th>\n",
              "      <th>calculated_host_listings_count</th>\n",
              "      <th>availability_365</th>\n",
              "    </tr>\n",
              "  </thead>\n",
              "  <tbody>\n",
              "    <tr>\n",
              "      <th>count</th>\n",
              "      <td>4.889500e+04</td>\n",
              "      <td>4.889500e+04</td>\n",
              "      <td>48895.000000</td>\n",
              "      <td>48895.000000</td>\n",
              "      <td>48895.000000</td>\n",
              "      <td>48895.000000</td>\n",
              "      <td>48895.000000</td>\n",
              "      <td>38843.000000</td>\n",
              "      <td>48895.000000</td>\n",
              "      <td>48895.000000</td>\n",
              "    </tr>\n",
              "    <tr>\n",
              "      <th>mean</th>\n",
              "      <td>1.901714e+07</td>\n",
              "      <td>6.762001e+07</td>\n",
              "      <td>40.728949</td>\n",
              "      <td>-73.952170</td>\n",
              "      <td>152.720687</td>\n",
              "      <td>7.029962</td>\n",
              "      <td>23.274466</td>\n",
              "      <td>1.373221</td>\n",
              "      <td>7.143982</td>\n",
              "      <td>112.781327</td>\n",
              "    </tr>\n",
              "    <tr>\n",
              "      <th>std</th>\n",
              "      <td>1.098311e+07</td>\n",
              "      <td>7.861097e+07</td>\n",
              "      <td>0.054530</td>\n",
              "      <td>0.046157</td>\n",
              "      <td>240.154170</td>\n",
              "      <td>20.510550</td>\n",
              "      <td>44.550582</td>\n",
              "      <td>1.680442</td>\n",
              "      <td>32.952519</td>\n",
              "      <td>131.622289</td>\n",
              "    </tr>\n",
              "    <tr>\n",
              "      <th>min</th>\n",
              "      <td>2.539000e+03</td>\n",
              "      <td>2.438000e+03</td>\n",
              "      <td>40.499790</td>\n",
              "      <td>-74.244420</td>\n",
              "      <td>0.000000</td>\n",
              "      <td>1.000000</td>\n",
              "      <td>0.000000</td>\n",
              "      <td>0.010000</td>\n",
              "      <td>1.000000</td>\n",
              "      <td>0.000000</td>\n",
              "    </tr>\n",
              "    <tr>\n",
              "      <th>25%</th>\n",
              "      <td>9.471945e+06</td>\n",
              "      <td>7.822033e+06</td>\n",
              "      <td>40.690100</td>\n",
              "      <td>-73.983070</td>\n",
              "      <td>69.000000</td>\n",
              "      <td>1.000000</td>\n",
              "      <td>1.000000</td>\n",
              "      <td>0.190000</td>\n",
              "      <td>1.000000</td>\n",
              "      <td>0.000000</td>\n",
              "    </tr>\n",
              "    <tr>\n",
              "      <th>50%</th>\n",
              "      <td>1.967728e+07</td>\n",
              "      <td>3.079382e+07</td>\n",
              "      <td>40.723070</td>\n",
              "      <td>-73.955680</td>\n",
              "      <td>106.000000</td>\n",
              "      <td>3.000000</td>\n",
              "      <td>5.000000</td>\n",
              "      <td>0.720000</td>\n",
              "      <td>1.000000</td>\n",
              "      <td>45.000000</td>\n",
              "    </tr>\n",
              "    <tr>\n",
              "      <th>75%</th>\n",
              "      <td>2.915218e+07</td>\n",
              "      <td>1.074344e+08</td>\n",
              "      <td>40.763115</td>\n",
              "      <td>-73.936275</td>\n",
              "      <td>175.000000</td>\n",
              "      <td>5.000000</td>\n",
              "      <td>24.000000</td>\n",
              "      <td>2.020000</td>\n",
              "      <td>2.000000</td>\n",
              "      <td>227.000000</td>\n",
              "    </tr>\n",
              "    <tr>\n",
              "      <th>max</th>\n",
              "      <td>3.648724e+07</td>\n",
              "      <td>2.743213e+08</td>\n",
              "      <td>40.913060</td>\n",
              "      <td>-73.712990</td>\n",
              "      <td>10000.000000</td>\n",
              "      <td>1250.000000</td>\n",
              "      <td>629.000000</td>\n",
              "      <td>58.500000</td>\n",
              "      <td>327.000000</td>\n",
              "      <td>365.000000</td>\n",
              "    </tr>\n",
              "  </tbody>\n",
              "</table>\n",
              "</div>"
            ]
          },
          "metadata": {
            "tags": []
          },
          "execution_count": 4
        }
      ]
    },
    {
      "cell_type": "markdown",
      "metadata": {
        "id": "Yz3B7v77b_7J",
        "colab_type": "text"
      },
      "source": [
        "Using boxplot will give a effective measure of handling outliers."
      ]
    },
    {
      "cell_type": "code",
      "metadata": {
        "trusted": true,
        "id": "Rwp-53Hjb_7K",
        "colab_type": "code",
        "colab": {},
        "outputId": "1ff9918f-6ee0-4046-afb3-2b97471ccd2f"
      },
      "source": [
        "sns.boxplot(x=airbnb['price'])"
      ],
      "execution_count": null,
      "outputs": [
        {
          "output_type": "execute_result",
          "data": {
            "text/plain": [
              "<matplotlib.axes._subplots.AxesSubplot at 0x7f9bbde9f450>"
            ]
          },
          "metadata": {
            "tags": []
          },
          "execution_count": 5
        },
        {
          "output_type": "display_data",
          "data": {
            "text/plain": [
              "<Figure size 432x288 with 1 Axes>"
            ],
            "image/png": "[encoded data removed]"
          },
          "metadata": {
            "tags": [],
            "needs_background": "light"
          }
        }
      ]
    },
    {
      "cell_type": "code",
      "metadata": {
        "trusted": true,
        "id": "Go8RRMl4b_7P",
        "colab_type": "code",
        "colab": {},
        "outputId": "3d139aa9-c3f6-4254-8bf2-87ba211b219a"
      },
      "source": [
        "sns.boxplot(x=airbnb['minimum_nights'])"
      ],
      "execution_count": null,
      "outputs": [
        {
          "output_type": "execute_result",
          "data": {
            "text/plain": [
              "<matplotlib.axes._subplots.AxesSubplot at 0x7f9bbd78d0d0>"
            ]
          },
          "metadata": {
            "tags": []
          },
          "execution_count": 6
        },
        {
          "output_type": "display_data",
          "data": {
            "text/plain": [
              "<Figure size 432x288 with 1 Axes>"
            ],
            "image/png": "[encoded data removed]"
          },
          "metadata": {
            "tags": [],
            "needs_background": "light"
          }
        }
      ]
    },
    {
      "cell_type": "code",
      "metadata": {
        "trusted": true,
        "id": "PfwI2LH2b_7U",
        "colab_type": "code",
        "colab": {},
        "outputId": "7f0ff2bd-3532-4450-d073-f10200f8515d"
      },
      "source": [
        "sns.boxplot(x=airbnb['number_of_reviews'])"
      ],
      "execution_count": null,
      "outputs": [
        {
          "output_type": "execute_result",
          "data": {
            "text/plain": [
              "<matplotlib.axes._subplots.AxesSubplot at 0x7f9bbd6f6810>"
            ]
          },
          "metadata": {
            "tags": []
          },
          "execution_count": 7
        },
        {
          "output_type": "display_data",
          "data": {
            "text/plain": [
              "<Figure size 432x288 with 1 Axes>"
            ],
            "image/png": "[encoded data removed]"
          },
          "metadata": {
            "tags": [],
            "needs_background": "light"
          }
        }
      ]
    },
    {
      "cell_type": "markdown",
      "metadata": {
        "id": "A_QvHqSNb_7Y",
        "colab_type": "text"
      },
      "source": [
        "2.Create a plot showing top 10 neighbourhoods/neighbourhood_group with highest hotel prices.\n",
        "1. Create a bar plot using seaborn/matplotlib.\n",
        "1. Hints :-\n",
        "Use pandas data filtering technique \n",
        " df[df[‘column’ < condition]] where df is a pandas dataframe"
      ]
    },
    {
      "cell_type": "code",
      "metadata": {
        "trusted": true,
        "id": "eEZeV_SMb_7Z",
        "colab_type": "code",
        "colab": {}
      },
      "source": [
        "df= airbnb.sort_values(['price'], ascending=[False]).head(10)\n"
      ],
      "execution_count": null,
      "outputs": []
    },
    {
      "cell_type": "code",
      "metadata": {
        "trusted": true,
        "id": "DDPeR9yub_7c",
        "colab_type": "code",
        "colab": {},
        "outputId": "6e0e1c0a-033f-42c4-9ee4-526fa52de4d7"
      },
      "source": [
        "sns.set(style=\"darkgrid\")\n",
        "ax = sns.countplot(x='neighbourhood_group', data=df)"
      ],
      "execution_count": null,
      "outputs": [
        {
          "output_type": "display_data",
          "data": {
            "text/plain": [
              "<Figure size 432x288 with 1 Axes>"
            ],
            "image/png": "[encoded data removed]"
          },
          "metadata": {
            "tags": []
          }
        }
      ]
    },
    {
      "cell_type": "code",
      "metadata": {
        "trusted": true,
        "id": "AeEiRBvbb_7f",
        "colab_type": "code",
        "colab": {},
        "outputId": "98a4d726-0819-4e73-be7e-ad89f6115792"
      },
      "source": [
        "df.plot.bar(x=\"neighbourhood_group\",y=\"price\",rot=70,title=\"barplot\")\n",
        "plt.show(block=True)"
      ],
      "execution_count": null,
      "outputs": [
        {
          "output_type": "display_data",
          "data": {
            "text/plain": [
              "<Figure size 432x288 with 1 Axes>"
            ],
            "image/png": "[encoded data removed]"
          },
          "metadata": {
            "tags": []
          }
        }
      ]
    },
    {
      "cell_type": "markdown",
      "metadata": {
        "id": "sznpgIJSb_7i",
        "colab_type": "text"
      },
      "source": [
        "3.Find out the neighbourhood’s average price so that I am able to pick an economical location to book my hotel.\n",
        "\n",
        "Plot a graph showing location level average price.\n",
        "\n",
        "A brief explanation supporting the code and plot.\n",
        "\n",
        "Hints :-\n",
        "\n",
        "Pandas groupby() operation might help you out here"
      ]
    },
    {
      "cell_type": "markdown",
      "metadata": {
        "id": "HbRrc_PXb_7i",
        "colab_type": "text"
      },
      "source": [
        "Description: Suppose I am settling in the city , I would prefer to look at most economical neighbourhood groups beacuse serching neighbourhood will be a costly affair. So, by checking out the average price of each neighborhood group we can decide where to decide instead checking neighbourhood individually will be a time consuming process and by looking at neighbourhood group we can easily predict where to stay."
      ]
    },
    {
      "cell_type": "code",
      "metadata": {
        "trusted": true,
        "id": "z0fuvoMXb_7j",
        "colab_type": "code",
        "colab": {}
      },
      "source": [
        "df3=airbnb.groupby(['neighbourhood_group'])['price'].mean()"
      ],
      "execution_count": null,
      "outputs": []
    },
    {
      "cell_type": "code",
      "metadata": {
        "trusted": true,
        "id": "cZ6liZUlb_7m",
        "colab_type": "code",
        "colab": {},
        "outputId": "162e9662-2f65-4423-ba05-b5f5b5a97428"
      },
      "source": [
        "print(df3)"
      ],
      "execution_count": null,
      "outputs": [
        {
          "output_type": "stream",
          "text": [
            "neighbourhood_group\n",
            "Bronx             87.496792\n",
            "Brooklyn         124.383207\n",
            "Manhattan        196.875814\n",
            "Queens            99.517649\n",
            "Staten Island    114.812332\n",
            "Name: price, dtype: float64\n"
          ],
          "name": "stdout"
        }
      ]
    },
    {
      "cell_type": "code",
      "metadata": {
        "trusted": true,
        "id": "ayRn5BdYb_7p",
        "colab_type": "code",
        "colab": {},
        "outputId": "6f816ad0-f938-4fb6-dbd1-3687ecd57ce0"
      },
      "source": [
        "df3.plot.bar(x=\"neighbourhood_group\",y=\"price\",rot=70,title=\"barplot\")\n",
        "plt.show(block=True)"
      ],
      "execution_count": null,
      "outputs": [
        {
          "output_type": "display_data",
          "data": {
            "text/plain": [
              "<Figure size 432x288 with 1 Axes>"
            ],
            "image/png": "[encoded data removed]"
          },
          "metadata": {
            "tags": []
          }
        }
      ]
    },
    {
      "cell_type": "markdown",
      "metadata": {
        "id": "QAJ6GEfFb_7t",
        "colab_type": "text"
      },
      "source": [
        "4. Find out the 10 most popular hosts based on number_of_reviews\n",
        "\n",
        "Create a column named popularity_index depicting popularity of the host.\n",
        "\n",
        "Hints :-\n",
        "\n",
        "Calculate sum of total number_of_reviews for the dataset\n",
        "\n",
        "Calculate relative review percentage for each host id. This will give you popularity index per host id \n",
        "\n",
        "Use Pandas apply() operation to create a column.\n",
        "\n",
        "Use pandas merge() or join() operation to merge back into original dataframe."
      ]
    },
    {
      "cell_type": "code",
      "metadata": {
        "trusted": true,
        "id": "JIHjfAs-b_7t",
        "colab_type": "code",
        "colab": {}
      },
      "source": [
        "df4=airbnb.iloc[:,[2,3,11]]\n",
        "dff4=df4.groupby(['host_id','host_name'])#grouping w.r.t. host_id"
      ],
      "execution_count": null,
      "outputs": []
    },
    {
      "cell_type": "code",
      "metadata": {
        "trusted": true,
        "id": "pLAqK_CPb_7w",
        "colab_type": "code",
        "colab": {}
      },
      "source": [
        "s_df=dff4.sum()\n",
        "s_df=s_df.reset_index()"
      ],
      "execution_count": null,
      "outputs": []
    },
    {
      "cell_type": "code",
      "metadata": {
        "trusted": true,
        "id": "f4k_tVuIb_7y",
        "colab_type": "code",
        "colab": {}
      },
      "source": [
        "tot_rev=airbnb['number_of_reviews'].sum()\n",
        "s_df['popularity_index']=s_df['number_of_reviews']/tot_rev #calculating relative popularity index based on reviews."
      ],
      "execution_count": null,
      "outputs": []
    },
    {
      "cell_type": "code",
      "metadata": {
        "trusted": true,
        "id": "TL5iFuekb_71",
        "colab_type": "code",
        "colab": {},
        "outputId": "4f03f242-4c61-49cf-f2c5-7a6bd07f4a37"
      },
      "source": [
        "s_df.sort_values('popularity_index',axis=0,inplace=True,na_position='last',ascending=False)\n",
        "print(s_df.head(10))"
      ],
      "execution_count": null,
      "outputs": [
        {
          "output_type": "stream",
          "text": [
            "         host_id                       host_name  number_of_reviews  \\\n",
            "21304   37312959                            Maya               2273   \n",
            "1052      344035  Brooklyn&   Breakfast    -Len-               2205   \n",
            "18626   26432133                        Danielle               2017   \n",
            "20872   35524316                    Yasu & Akiko               1971   \n",
            "21921   40176101                           Brady               1818   \n",
            "7362     4734398                              Jj               1798   \n",
            "14707   16677326                  Alex And Zeena               1355   \n",
            "9201     6885157                           Randy               1346   \n",
            "34629  219517861                    Sonder (NYC)               1281   \n",
            "17517   23591164                          Angela               1269   \n",
            "\n",
            "       popularity_index  \n",
            "21304          0.001997  \n",
            "1052           0.001938  \n",
            "18626          0.001772  \n",
            "20872          0.001732  \n",
            "21921          0.001598  \n",
            "7362           0.001580  \n",
            "14707          0.001191  \n",
            "9201           0.001183  \n",
            "34629          0.001126  \n",
            "17517          0.001115  \n"
          ],
          "name": "stdout"
        }
      ]
    },
    {
      "cell_type": "code",
      "metadata": {
        "trusted": true,
        "id": "XzGErqA6b_74",
        "colab_type": "code",
        "colab": {},
        "outputId": "5473cad0-2148-4297-98f3-3e7003637e35"
      },
      "source": [
        "print(len(s_df))"
      ],
      "execution_count": null,
      "outputs": [
        {
          "output_type": "stream",
          "text": [
            "37439\n"
          ],
          "name": "stdout"
        }
      ]
    },
    {
      "cell_type": "markdown",
      "metadata": {
        "id": "gDZSr5R5b_79",
        "colab_type": "text"
      },
      "source": [
        "5.Find out the top locations where people tend to stay for a longer duration (more than a week) and sort those by their popularity index \n",
        "* Provide a pandas Series with only top 20 locations\n",
        "* Hints :-\n",
        "* Use pandas data filtering technique\n",
        "* Use pandas sort_values() to sort by popularity_index\n"
      ]
    },
    {
      "cell_type": "code",
      "metadata": {
        "trusted": true,
        "id": "e6RdfLHKb_79",
        "colab_type": "code",
        "colab": {}
      },
      "source": [
        "df1_dum=airbnb\n",
        "\n",
        "df1_dum.sort_values('minimum_nights',axis=0,inplace=True,na_position='last',ascending=True)"
      ],
      "execution_count": null,
      "outputs": []
    },
    {
      "cell_type": "code",
      "metadata": {
        "trusted": true,
        "id": "odeZM5gXb_7_",
        "colab_type": "code",
        "colab": {},
        "outputId": "3ca2ac40-cabc-4005-8ddb-bfcc89047a6d"
      },
      "source": [
        "for i in range(df1_dum.shape[0]):\n",
        "  if(df1_dum.iloc[i,10]>7):\n",
        "    ind=i\n",
        "    break                                                                #pepole stayed more than a week\n",
        "df1_sub5=df1_dum.iloc[ind:,[5,10,16]]\n",
        "\n",
        "print(df1_sub5.head(10))"
      ],
      "execution_count": null,
      "outputs": [
        {
          "output_type": "stream",
          "text": [
            "            neighbourhood  minimum_nights  popularity_index\n",
            "5901         Clinton Hill               8      2.899812e-05\n",
            "5141    Greenwich Village               8      4.217908e-05\n",
            "12025        East Village               8      5.272385e-06\n",
            "11013  Bedford-Stuyvesant               8      3.602796e-05\n",
            "16514     Upper West Side               8      0.000000e+00\n",
            "11989          Park Slope               8      1.757462e-06\n",
            "1857              Gowanus               8      6.151115e-06\n",
            "5183   Bedford-Stuyvesant               8      1.493842e-05\n",
            "45358    Long Island City               8      0.000000e+00\n",
            "20698    Theater District               8      8.787308e-07\n"
          ],
          "name": "stdout"
        }
      ]
    },
    {
      "cell_type": "code",
      "metadata": {
        "trusted": true,
        "id": "J8b8fxofb_8C",
        "colab_type": "code",
        "colab": {},
        "outputId": "5aac0bba-7e65-4c85-8e09-113f5ba4e89d"
      },
      "source": [
        "df1_sub5.sort_values('popularity_index',axis=0,inplace=True,ascending=False,na_position='last')\n",
        "\n",
        "print(df1_sub5['neighbourhood'].head(10))"
      ],
      "execution_count": null,
      "outputs": [
        {
          "output_type": "stream",
          "text": [
            "113             South Slope\n",
            "3605     Bedford-Stuyvesant\n",
            "1242                Astoria\n",
            "7984               Kips Bay\n",
            "6375     Bedford-Stuyvesant\n",
            "563               Sunnyside\n",
            "643            Williamsburg\n",
            "2244            East Harlem\n",
            "12718          Williamsburg\n",
            "1318       Ditmars Steinway\n",
            "Name: neighbourhood, dtype: object\n"
          ],
          "name": "stdout"
        }
      ]
    },
    {
      "cell_type": "markdown",
      "metadata": {
        "id": "fcSRmssqb_8F",
        "colab_type": "text"
      },
      "source": [
        "6.Find out the most popular regions based on the host_id’s popularity_index\n",
        "Create a dataframe and a plot to show top 10 popular regions.\n",
        "\n",
        "Hints :-\n",
        "* Use pandas groupby() to get the popularity index of the region \n",
        " "
      ]
    },
    {
      "cell_type": "code",
      "metadata": {
        "trusted": true,
        "id": "bHNt2Z6mb_8F",
        "colab_type": "code",
        "colab": {},
        "outputId": "f06b78a2-4bd3-4ab8-db9c-244935cfb131"
      },
      "source": [
        "tot_rev=airbnb['number_of_reviews'].sum()\n",
        "airbnb['popularity_index']=airbnb.loc[:,'number_of_reviews']/tot_rev\n",
        "df1_sub4=airbnb.iloc[:,[5,16]]\n",
        "\n",
        "print(df1_sub4.head()) "
      ],
      "execution_count": null,
      "outputs": [
        {
          "output_type": "stream",
          "text": [
            "  neighbourhood  popularity_index\n",
            "0    Kensington          0.000008\n",
            "1       Midtown          0.000040\n",
            "2        Harlem          0.000000\n",
            "3  Clinton Hill          0.000237\n",
            "4   East Harlem          0.000008\n"
          ],
          "name": "stdout"
        }
      ]
    },
    {
      "cell_type": "code",
      "metadata": {
        "trusted": true,
        "id": "4bThc010b_8I",
        "colab_type": "code",
        "colab": {},
        "outputId": "61b6e405-65b6-49d4-d20b-dc8d090e7aa8"
      },
      "source": [
        "groupdf_sub1=df1_sub4.groupby('neighbourhood')\n",
        "s_dfa=groupdf_sub1.sum()\n",
        "s_dfa=s_dfa.reset_index()\n",
        "\n",
        "print(s_dfa)"
      ],
      "execution_count": null,
      "outputs": [
        {
          "output_type": "stream",
          "text": [
            "       neighbourhood  popularity_index\n",
            "0           Allerton          0.001584\n",
            "1      Arden Heights          0.000027\n",
            "2           Arrochar          0.000270\n",
            "3            Arverne          0.001980\n",
            "4            Astoria          0.016968\n",
            "..               ...               ...\n",
            "216  Windsor Terrace          0.003800\n",
            "217        Woodhaven          0.002453\n",
            "218         Woodlawn          0.000425\n",
            "219          Woodrow          0.000000\n",
            "220         Woodside          0.004424\n",
            "\n",
            "[221 rows x 2 columns]\n"
          ],
          "name": "stdout"
        }
      ]
    },
    {
      "cell_type": "code",
      "metadata": {
        "trusted": true,
        "id": "-s3wyb77b_8L",
        "colab_type": "code",
        "colab": {},
        "outputId": "e6693926-3aa1-4c70-e8f9-b3db9a32ab81"
      },
      "source": [
        "s_dfa.sort_values('popularity_index',axis=0,inplace=True,na_position='last',ascending=False)\n",
        "\n",
        "print(s_dfa.head(10))\n",
        "\n",
        "s_dfa.head(10).plot.bar(x=\"neighbourhood\", y=\"popularity_index\",rot=70, title=\"barplot\")\n",
        "\n",
        "plt.show(block=True)"
      ],
      "execution_count": null,
      "outputs": [
        {
          "output_type": "stream",
          "text": [
            "          neighbourhood  popularity_index\n",
            "13   Bedford-Stuyvesant          0.096970\n",
            "214        Williamsburg          0.075067\n",
            "94               Harlem          0.066750\n",
            "28             Bushwick          0.046146\n",
            "95       Hell's Kitchen          0.044136\n",
            "64         East Village          0.039253\n",
            "61          East Harlem          0.032026\n",
            "51        Crown Heights          0.031993\n",
            "202     Upper West Side          0.031685\n",
            "201     Upper East Side          0.027843\n"
          ],
          "name": "stdout"
        },
        {
          "output_type": "display_data",
          "data": {
            "text/plain": [
              "<Figure size 432x288 with 1 Axes>"
            ],
            "image/png": "[encoded data removed]"
          },
          "metadata": {
            "tags": []
          }
        }
      ]
    },
    {
      "cell_type": "markdown",
      "metadata": {
        "id": "Hrx8PROSb_8R",
        "colab_type": "text"
      },
      "source": [
        "7. Calculate host_id’s popularity in its neighbourhood \n",
        "\n",
        "Create a column host_neighbourhood_popularity by calculating relative percentage of reviews of host among total reviews in that region.\n",
        "\n",
        "Hints :-\n",
        "\n",
        "Use Pandas groupby()operation to get total reviews per region\n",
        "\n",
        "Use Pandas apply() operation to create a column.\n"
      ]
    },
    {
      "cell_type": "code",
      "metadata": {
        "trusted": true,
        "id": "Ko8H5VvYb_8R",
        "colab_type": "code",
        "colab": {},
        "outputId": "8cdfe755-8532-4112-9eed-4d40772a8eed"
      },
      "source": [
        "df3=df2\n",
        "df1_sub7 = df3.iloc[:,[4,11]]\n",
        "\n",
        "gc1=df1_sub7.groupby('neighbourhood_group').sum().reset_index()\n",
        "print(gc1)"
      ],
      "execution_count": null,
      "outputs": [
        {
          "output_type": "stream",
          "text": [
            "  neighbourhood_group  number_of_reviews\n",
            "0               Bronx              28371\n",
            "1            Brooklyn             486574\n",
            "2           Manhattan             454569\n",
            "3              Queens             156950\n",
            "4       Staten Island              11541\n"
          ],
          "name": "stdout"
        }
      ]
    },
    {
      "cell_type": "code",
      "metadata": {
        "trusted": true,
        "id": "bncbJGD0b_8V",
        "colab_type": "code",
        "colab": {}
      },
      "source": [
        "lst1=[]\n",
        "\n",
        "for i in range(df3.shape[0]):\n",
        "    for j in range(gc1.shape[0]):\n",
        "        if(df3.loc[i,'neighbourhood_group']==gc1.loc[j,'neighbourhood_group']):\n",
        "            lst1.append(df3.loc[i,'number_of_reviews']/gc1.loc[j,'number_of_reviews'])\n",
        "            \n",
        "ls_datf1=pd.DataFrame({'h_n_p':lst1})"
      ],
      "execution_count": null,
      "outputs": []
    },
    {
      "cell_type": "code",
      "metadata": {
        "trusted": true,
        "id": "OnnucghAb_8X",
        "colab_type": "code",
        "colab": {}
      },
      "source": [
        "df_final=df2\n",
        "\n",
        "df_final['host_neighbourhood_popularity']=ls_datf1['h_n_p']"
      ],
      "execution_count": null,
      "outputs": []
    },
    {
      "cell_type": "code",
      "metadata": {
        "trusted": true,
        "id": "Nu40SxEcb_8Z",
        "colab_type": "code",
        "colab": {},
        "outputId": "58674424-5a56-4e8d-ea90-60865c234966"
      },
      "source": [
        "print(df_final.head())"
      ],
      "execution_count": null,
      "outputs": [
        {
          "output_type": "stream",
          "text": [
            "     id                                              name  host_id  \\\n",
            "0  2539                Clean & quiet apt home by the park     2787   \n",
            "1  2595                             Skylit Midtown Castle     2845   \n",
            "2  3647               THE VILLAGE OF HARLEM....NEW YORK !     4632   \n",
            "3  3831                   Cozy Entire Floor of Brownstone     4869   \n",
            "4  5022  Entire Apt: Spacious Studio/Loft by central park     7192   \n",
            "\n",
            "     host_name neighbourhood_group neighbourhood  latitude  longitude  \\\n",
            "0         John            Brooklyn    Kensington  40.64749  -73.97237   \n",
            "1     Jennifer           Manhattan       Midtown  40.75362  -73.98377   \n",
            "2    Elisabeth           Manhattan        Harlem  40.80902  -73.94190   \n",
            "3  LisaRoxanne            Brooklyn  Clinton Hill  40.68514  -73.95976   \n",
            "4        Laura           Manhattan   East Harlem  40.79851  -73.94399   \n",
            "\n",
            "         room_type  price  minimum_nights  number_of_reviews last_review  \\\n",
            "0     Private room    149               1                  9  2018-10-19   \n",
            "1  Entire home/apt    225               1                 45  2019-05-21   \n",
            "2     Private room    150               3                  0         NaN   \n",
            "3  Entire home/apt     89               1                270  2019-07-05   \n",
            "4  Entire home/apt     80              10                  9  2018-11-19   \n",
            "\n",
            "   reviews_per_month  calculated_host_listings_count  availability_365  \\\n",
            "0               0.21                               6               365   \n",
            "1               0.38                               2               355   \n",
            "2                NaN                               1               365   \n",
            "3               4.64                               1               194   \n",
            "4               0.10                               1                 0   \n",
            "\n",
            "   popularity_index  region_price_margin  host_neighbourhood_popularity  \n",
            "0          0.000008            24.616793                       0.000018  \n",
            "1          0.000040            28.124186                       0.000099  \n",
            "2          0.000000           -46.875814                       0.000000  \n",
            "3          0.000237           -35.383207                       0.000555  \n",
            "4          0.000008          -116.875814                       0.000020  \n"
          ],
          "name": "stdout"
        }
      ]
    },
    {
      "cell_type": "code",
      "metadata": {
        "trusted": true,
        "id": "0C1q8zTfb_8b",
        "colab_type": "code",
        "colab": {}
      },
      "source": [
        ""
      ],
      "execution_count": null,
      "outputs": []
    },
    {
      "cell_type": "markdown",
      "metadata": {
        "id": "QWTL8Dfbb_8e",
        "colab_type": "text"
      },
      "source": [
        "8.Which neighbourhood is generating maximum and minimum revenues in terms of private rooms and entire homes?\n",
        "\n",
        "Provide four neighbourhood names which suffice the above condition as following\n",
        "\n",
        "Maximum revenue in Private Rooms :- <neighbourhood-name>\n",
        "    \n",
        "Minimum revenue in Private Rooms :- <neighbourhood-name>\n",
        "    \n",
        "Maximum revenue in Entire Homes :- <neighbourhood-name>\n",
        "    \n",
        "Minimum revenue in Entire Homes :- <neighbourhood-name>\n"
      ]
    },
    {
      "cell_type": "code",
      "metadata": {
        "trusted": true,
        "id": "Wzfolpbhb_8f",
        "colab_type": "code",
        "colab": {},
        "outputId": "78511f46-34c5-4aaf-c958-831788744e0f"
      },
      "source": [
        "df8=airbnb.iloc[:,[4,8,9]]\n",
        "print(df8)"
      ],
      "execution_count": null,
      "outputs": [
        {
          "output_type": "stream",
          "text": [
            "      neighbourhood_group        room_type  price\n",
            "0                Brooklyn     Private room    149\n",
            "1               Manhattan  Entire home/apt    225\n",
            "2               Manhattan     Private room    150\n",
            "3                Brooklyn  Entire home/apt     89\n",
            "4               Manhattan  Entire home/apt     80\n",
            "...                   ...              ...    ...\n",
            "48890            Brooklyn     Private room     70\n",
            "48891            Brooklyn     Private room     40\n",
            "48892           Manhattan  Entire home/apt    115\n",
            "48893           Manhattan      Shared room     55\n",
            "48894           Manhattan     Private room     90\n",
            "\n",
            "[48895 rows x 3 columns]\n"
          ],
          "name": "stdout"
        }
      ]
    },
    {
      "cell_type": "code",
      "metadata": {
        "trusted": true,
        "id": "dQNbs6WJb_8h",
        "colab_type": "code",
        "colab": {}
      },
      "source": [
        "ga2=df8.groupby(['neighbourhood_group','room_type'])\n",
        "s_dfc=ga2.sum()\n",
        "s_dfc=s_dfc.reset_index()"
      ],
      "execution_count": null,
      "outputs": []
    },
    {
      "cell_type": "code",
      "metadata": {
        "trusted": true,
        "id": "FbqhHHG3b_8j",
        "colab_type": "code",
        "colab": {},
        "outputId": "00d4bf09-1200-42e5-9006-6bee982eeeca"
      },
      "source": [
        "print(s_dfc)"
      ],
      "execution_count": null,
      "outputs": [
        {
          "output_type": "stream",
          "text": [
            "   neighbourhood_group        room_type    price\n",
            "0                Bronx  Entire home/apt    48325\n",
            "1                Bronx     Private room    43546\n",
            "2                Bronx      Shared room     3588\n",
            "3             Brooklyn  Entire home/apt  1704633\n",
            "4             Brooklyn     Private room   775099\n",
            "5             Brooklyn      Shared room    20868\n",
            "6            Manhattan  Entire home/apt  3289707\n",
            "7            Manhattan     Private room   932111\n",
            "8            Manhattan      Shared room    42709\n",
            "9               Queens  Entire home/apt   308218\n",
            "10              Queens     Private room   241983\n",
            "11              Queens      Shared room    13666\n",
            "12       Staten Island  Entire home/apt    30597\n",
            "13       Staten Island     Private room    11711\n",
            "14       Staten Island      Shared room      517\n"
          ],
          "name": "stdout"
        }
      ]
    },
    {
      "cell_type": "code",
      "metadata": {
        "trusted": true,
        "id": "ycTiWTxkb_8l",
        "colab_type": "code",
        "colab": {},
        "outputId": "ebf0028a-ca3d-4b72-e7c4-f53a2f28f853"
      },
      "source": [
        "q1=s_dfc.loc[s_dfc['room_type']==\"Private room\"]\n",
        "q2=s_dfc.loc[s_dfc['room_type']==\"Entire home/apt\"]\n",
        "\n",
        "for i in range(q1.shape[0]):\n",
        "    if(q1.iloc[i,2]==max(q1['price'])):\n",
        "        print(\"Maximum revenue in Private Rooms :-\"+str(q1.iloc[i,0]))\n",
        "        \n",
        "for j in range(q1.shape[0]):\n",
        "    if(q1.iloc[j,2]==min(q1['price'])):\n",
        "        print(\"Minimum revenue in Private Rooms :-\"+str(q1.iloc[j,0]))\n",
        "        \n",
        "for i in range(q1.shape[0]):\n",
        "    if(q2.iloc[i,2]==max(q2['price'])):\n",
        "        print(\"Maximum revenue in Entire Rooms :-\"+str(q2.iloc[i,0]))\n",
        "        \n",
        "for j in range(q1.shape[0]):\n",
        "    if(q2.iloc[j,2]==min(q2['price'])):\n",
        "        print(\"Minimum revenue in Entire Rooms :-\"+str(q2.iloc[j,0]))"
      ],
      "execution_count": null,
      "outputs": [
        {
          "output_type": "stream",
          "text": [
            "Maximum revenue in Private Rooms :-Manhattan\n",
            "Minimum revenue in Private Rooms :-Staten Island\n",
            "Maximum revenue in Entire Rooms :-Manhattan\n",
            "Minimum revenue in Entire Rooms :-Staten Island\n"
          ],
          "name": "stdout"
        }
      ]
    },
    {
      "cell_type": "markdown",
      "metadata": {
        "id": "ic-d5afJb_8o",
        "colab_type": "text"
      },
      "source": [
        "9.What is the average price income for private rooms and entire homes for each of the neighbourhoods?\n",
        "\n",
        "Create a dataframe containing average prices  grouped by neighbourhood and room_type. Rename the average prices column - average_region_price\n",
        "\n",
        "Create a dataframe with ‘neighbourhood’ on index and ‘Private rooms’, ‘entire homes’ as columns\n",
        "Create a plot for the same using matplotlib/seaborn.\n",
        "\n",
        "Hints :-\n",
        "\n",
        "Use Pandas groupby()operation over room_type and neighbourhood and aggregate on  price\n",
        "\n",
        "Use pandas pivot_table() to convert data into desired format as 9.b\n",
        "\n",
        "Refer Phone Ads notebook for solving this problem\n"
      ]
    },
    {
      "cell_type": "code",
      "metadata": {
        "trusted": true,
        "id": "3FjxXFKNb_8o",
        "colab_type": "code",
        "colab": {},
        "outputId": "89cfff67-7aed-42bb-b840-6b804cc73d42"
      },
      "source": [
        "gb=df8.groupby(['neighbourhood_group','room_type']).mean().reset_index()\n",
        "\n",
        "gb.rename(columns={'price':'average_region_price'},inplace=True)\n",
        "\n",
        "print(gb)"
      ],
      "execution_count": null,
      "outputs": [
        {
          "output_type": "stream",
          "text": [
            "   neighbourhood_group        room_type  average_region_price\n",
            "0                Bronx  Entire home/apt            127.506596\n",
            "1                Bronx     Private room             66.788344\n",
            "2                Bronx      Shared room             59.800000\n",
            "3             Brooklyn  Entire home/apt            178.327545\n",
            "4             Brooklyn     Private room             76.500099\n",
            "5             Brooklyn      Shared room             50.527845\n",
            "6            Manhattan  Entire home/apt            249.239109\n",
            "7            Manhattan     Private room            116.776622\n",
            "8            Manhattan      Shared room             88.977083\n",
            "9               Queens  Entire home/apt            147.050573\n",
            "10              Queens     Private room             71.762456\n",
            "11              Queens      Shared room             69.020202\n",
            "12       Staten Island  Entire home/apt            173.846591\n",
            "13       Staten Island     Private room             62.292553\n",
            "14       Staten Island      Shared room             57.444444\n"
          ],
          "name": "stdout"
        }
      ]
    },
    {
      "cell_type": "code",
      "metadata": {
        "trusted": true,
        "id": "u5ONg9PBb_8r",
        "colab_type": "code",
        "colab": {},
        "outputId": "e3cf88f9-607b-4e8f-9f8a-ad85dfc6bbd1"
      },
      "source": [
        "df1_dum2=airbnb\n",
        "\n",
        "df1_dum3=df1_dum2.pivot_table(values='price', index=[df1_dum2.index,'neighbourhood_group'], columns='room_type')\n",
        "df1_dum3.drop('Shared room',axis=1)"
      ],
      "execution_count": null,
      "outputs": [
        {
          "output_type": "execute_result",
          "data": {
            "text/plain": [
              "room_type                  Entire home/apt  Private room\n",
              "      neighbourhood_group                               \n",
              "0     Brooklyn                         NaN         149.0\n",
              "1     Manhattan                      225.0           NaN\n",
              "2     Manhattan                        NaN         150.0\n",
              "3     Brooklyn                        89.0           NaN\n",
              "4     Manhattan                       80.0           NaN\n",
              "...                                    ...           ...\n",
              "48890 Brooklyn                         NaN          70.0\n",
              "48891 Brooklyn                         NaN          40.0\n",
              "48892 Manhattan                      115.0           NaN\n",
              "48893 Manhattan                        NaN           NaN\n",
              "48894 Manhattan                        NaN          90.0\n",
              "\n",
              "[48895 rows x 2 columns]"
            ],
            "text/html": [
              "<div>\n",
              "<style scoped>\n",
              "    .dataframe tbody tr th:only-of-type {\n",
              "        vertical-align: middle;\n",
              "    }\n",
              "\n",
              "    .dataframe tbody tr th {\n",
              "        vertical-align: top;\n",
              "    }\n",
              "\n",
              "    .dataframe thead th {\n",
              "        text-align: right;\n",
              "    }\n",
              "</style>\n",
              "<table border=\"1\" class=\"dataframe\">\n",
              "  <thead>\n",
              "    <tr style=\"text-align: right;\">\n",
              "      <th></th>\n",
              "      <th>room_type</th>\n",
              "      <th>Entire home/apt</th>\n",
              "      <th>Private room</th>\n",
              "    </tr>\n",
              "    <tr>\n",
              "      <th></th>\n",
              "      <th>neighbourhood_group</th>\n",
              "      <th></th>\n",
              "      <th></th>\n",
              "    </tr>\n",
              "  </thead>\n",
              "  <tbody>\n",
              "    <tr>\n",
              "      <th>0</th>\n",
              "      <th>Brooklyn</th>\n",
              "      <td>NaN</td>\n",
              "      <td>149.0</td>\n",
              "    </tr>\n",
              "    <tr>\n",
              "      <th>1</th>\n",
              "      <th>Manhattan</th>\n",
              "      <td>225.0</td>\n",
              "      <td>NaN</td>\n",
              "    </tr>\n",
              "    <tr>\n",
              "      <th>2</th>\n",
              "      <th>Manhattan</th>\n",
              "      <td>NaN</td>\n",
              "      <td>150.0</td>\n",
              "    </tr>\n",
              "    <tr>\n",
              "      <th>3</th>\n",
              "      <th>Brooklyn</th>\n",
              "      <td>89.0</td>\n",
              "      <td>NaN</td>\n",
              "    </tr>\n",
              "    <tr>\n",
              "      <th>4</th>\n",
              "      <th>Manhattan</th>\n",
              "      <td>80.0</td>\n",
              "      <td>NaN</td>\n",
              "    </tr>\n",
              "    <tr>\n",
              "      <th>...</th>\n",
              "      <th>...</th>\n",
              "      <td>...</td>\n",
              "      <td>...</td>\n",
              "    </tr>\n",
              "    <tr>\n",
              "      <th>48890</th>\n",
              "      <th>Brooklyn</th>\n",
              "      <td>NaN</td>\n",
              "      <td>70.0</td>\n",
              "    </tr>\n",
              "    <tr>\n",
              "      <th>48891</th>\n",
              "      <th>Brooklyn</th>\n",
              "      <td>NaN</td>\n",
              "      <td>40.0</td>\n",
              "    </tr>\n",
              "    <tr>\n",
              "      <th>48892</th>\n",
              "      <th>Manhattan</th>\n",
              "      <td>115.0</td>\n",
              "      <td>NaN</td>\n",
              "    </tr>\n",
              "    <tr>\n",
              "      <th>48893</th>\n",
              "      <th>Manhattan</th>\n",
              "      <td>NaN</td>\n",
              "      <td>NaN</td>\n",
              "    </tr>\n",
              "    <tr>\n",
              "      <th>48894</th>\n",
              "      <th>Manhattan</th>\n",
              "      <td>NaN</td>\n",
              "      <td>90.0</td>\n",
              "    </tr>\n",
              "  </tbody>\n",
              "</table>\n",
              "<p>48895 rows × 2 columns</p>\n",
              "</div>"
            ]
          },
          "metadata": {
            "tags": []
          },
          "execution_count": 27
        }
      ]
    },
    {
      "cell_type": "code",
      "metadata": {
        "trusted": true,
        "id": "79kTzD9Hb_8u",
        "colab_type": "code",
        "colab": {},
        "outputId": "67b926f7-3c6a-48d9-e00f-26aae9e331e4"
      },
      "source": [
        "df1_dum4=df1_dum2.pivot_table(values='price', index='neighbourhood_group', columns='room_type')\n",
        "gh=df1_dum4.drop('Shared room',axis=1)\n",
        "\n",
        "print(gh)"
      ],
      "execution_count": null,
      "outputs": [
        {
          "output_type": "stream",
          "text": [
            "room_type            Entire home/apt  Private room\n",
            "neighbourhood_group                               \n",
            "Bronx                     127.506596     66.788344\n",
            "Brooklyn                  178.327545     76.500099\n",
            "Manhattan                 249.239109    116.776622\n",
            "Queens                    147.050573     71.762456\n",
            "Staten Island             173.846591     62.292553\n"
          ],
          "name": "stdout"
        }
      ]
    },
    {
      "cell_type": "code",
      "metadata": {
        "trusted": true,
        "id": "nkaklxsGb_8w",
        "colab_type": "code",
        "colab": {},
        "outputId": "d6b20452-bb5f-4c69-e7dc-8da6dc3c1e23"
      },
      "source": [
        "gh.plot.bar()"
      ],
      "execution_count": null,
      "outputs": [
        {
          "output_type": "execute_result",
          "data": {
            "text/plain": [
              "<matplotlib.axes._subplots.AxesSubplot at 0x7f9bbd04e1d0>"
            ]
          },
          "metadata": {
            "tags": []
          },
          "execution_count": 29
        },
        {
          "output_type": "display_data",
          "data": {
            "text/plain": [
              "<Figure size 432x288 with 1 Axes>"
            ],
            "image/png": "[encoded data removed]"
          },
          "metadata": {
            "tags": []
          }
        }
      ]
    },
    {
      "cell_type": "markdown",
      "metadata": {
        "id": "J_casxdmb_8z",
        "colab_type": "text"
      },
      "source": [
        "10.Create a column depicting relative price difference of that host with respect to the neighbourhood’s average pricing. \n",
        "\n",
        "Create a column named region_price_margin \n",
        "\n",
        "The relative price difference will be (+/-) % of the average prices in that neighbourhood\n",
        "\n",
        "Hints :-\n",
        "\n",
        "Use pandas join() to join source table with dataframe generated at step 9.a\n",
        "\n",
        "After join operation, use pandas apply() to calculate difference percentage for each host price with respect to average_region_price.\n",
        "\n"
      ]
    },
    {
      "cell_type": "code",
      "metadata": {
        "trusted": true,
        "id": "BXqc7ZKob_8z",
        "colab_type": "code",
        "colab": {},
        "outputId": "abf6d25b-a836-44ca-955e-8cf11895ec32"
      },
      "source": [
        "gv1=airbnb.iloc[:,[4,9]]\n",
        "\n",
        "s_dfy=gv1.groupby('neighbourhood_group').mean().reset_index()\n",
        "\n",
        "#print(s_dfy)\n",
        "\n",
        "s_dfy.rename(columns={'price':'average_price'},inplace=True)\n",
        "\n",
        "gx1=s_dfy\n",
        "print(gx1)"
      ],
      "execution_count": null,
      "outputs": [
        {
          "output_type": "stream",
          "text": [
            "  neighbourhood_group  average_price\n",
            "0               Bronx      87.496792\n",
            "1            Brooklyn     124.383207\n",
            "2           Manhattan     196.875814\n",
            "3              Queens      99.517649\n",
            "4       Staten Island     114.812332\n"
          ],
          "name": "stdout"
        }
      ]
    },
    {
      "cell_type": "code",
      "metadata": {
        "trusted": true,
        "id": "8qt8_LKIb_83",
        "colab_type": "code",
        "colab": {},
        "outputId": "d8bd6826-39ab-4b21-bab2-7a5ace8d639e"
      },
      "source": [
        "df1_dum5=airbnb\n",
        "lst=[]\n",
        "\n",
        "for i in range(df1_dum5.shape[0]):\n",
        "  for j in range(gx1.shape[0]):\n",
        "    if(df1_dum5.loc[i,'neighbourhood_group']==gx1.loc[j,'neighbourhood_group']):\n",
        "      lst.append(df1_dum5.loc[i,'price']-gx1.loc[j,'average_price'])\n",
        "\n",
        "\n",
        "ls_datf=pd.DataFrame({'margin_price':lst})\n",
        "\n",
        "print(ls_datf.head())"
      ],
      "execution_count": null,
      "outputs": [
        {
          "output_type": "stream",
          "text": [
            "   margin_price\n",
            "0     24.616793\n",
            "1     28.124186\n",
            "2    -46.875814\n",
            "3    -35.383207\n",
            "4   -116.875814\n"
          ],
          "name": "stdout"
        }
      ]
    },
    {
      "cell_type": "code",
      "metadata": {
        "trusted": true,
        "id": "kgtMJVMyb_9A",
        "colab_type": "code",
        "colab": {}
      },
      "source": [
        "df2=airbnb"
      ],
      "execution_count": null,
      "outputs": []
    },
    {
      "cell_type": "code",
      "metadata": {
        "trusted": true,
        "id": "dsrPBpXEb_9C",
        "colab_type": "code",
        "colab": {},
        "outputId": "750f60c7-aedf-4329-8edf-d1661b11cde9"
      },
      "source": [
        "df2['region_price_margin']=ls_datf['margin_price']\n",
        "\n",
        "print(df2.head())"
      ],
      "execution_count": null,
      "outputs": [
        {
          "output_type": "stream",
          "text": [
            "     id                                              name  host_id  \\\n",
            "0  2539                Clean & quiet apt home by the park     2787   \n",
            "1  2595                             Skylit Midtown Castle     2845   \n",
            "2  3647               THE VILLAGE OF HARLEM....NEW YORK !     4632   \n",
            "3  3831                   Cozy Entire Floor of Brownstone     4869   \n",
            "4  5022  Entire Apt: Spacious Studio/Loft by central park     7192   \n",
            "\n",
            "     host_name neighbourhood_group neighbourhood  latitude  longitude  \\\n",
            "0         John            Brooklyn    Kensington  40.64749  -73.97237   \n",
            "1     Jennifer           Manhattan       Midtown  40.75362  -73.98377   \n",
            "2    Elisabeth           Manhattan        Harlem  40.80902  -73.94190   \n",
            "3  LisaRoxanne            Brooklyn  Clinton Hill  40.68514  -73.95976   \n",
            "4        Laura           Manhattan   East Harlem  40.79851  -73.94399   \n",
            "\n",
            "         room_type  price  minimum_nights  number_of_reviews last_review  \\\n",
            "0     Private room    149               1                  9  2018-10-19   \n",
            "1  Entire home/apt    225               1                 45  2019-05-21   \n",
            "2     Private room    150               3                  0         NaN   \n",
            "3  Entire home/apt     89               1                270  2019-07-05   \n",
            "4  Entire home/apt     80              10                  9  2018-11-19   \n",
            "\n",
            "   reviews_per_month  calculated_host_listings_count  availability_365  \\\n",
            "0               0.21                               6               365   \n",
            "1               0.38                               2               355   \n",
            "2                NaN                               1               365   \n",
            "3               4.64                               1               194   \n",
            "4               0.10                               1                 0   \n",
            "\n",
            "   popularity_index  region_price_margin  \n",
            "0          0.000008            24.616793  \n",
            "1          0.000040            28.124186  \n",
            "2          0.000000           -46.875814  \n",
            "3          0.000237           -35.383207  \n",
            "4          0.000008          -116.875814  \n"
          ],
          "name": "stdout"
        }
      ]
    },
    {
      "cell_type": "code",
      "metadata": {
        "trusted": true,
        "id": "OOZvZdTUb_9F",
        "colab_type": "code",
        "colab": {}
      },
      "source": [
        "t_rev=df2['number_of_reviews'].sum()\n",
        "df2['popularity_index']=df2.loc[:,'number_of_reviews']/t_rev"
      ],
      "execution_count": null,
      "outputs": []
    },
    {
      "cell_type": "code",
      "metadata": {
        "trusted": true,
        "id": "N9y3SVbrb_9I",
        "colab_type": "code",
        "colab": {},
        "outputId": "858225cb-3214-47d9-db1e-704c6fc4a19c"
      },
      "source": [
        "df2.head()"
      ],
      "execution_count": null,
      "outputs": [
        {
          "output_type": "execute_result",
          "data": {
            "text/plain": [
              "     id                                              name  host_id  \\\n",
              "0  2539                Clean & quiet apt home by the park     2787   \n",
              "1  2595                             Skylit Midtown Castle     2845   \n",
              "2  3647               THE VILLAGE OF HARLEM....NEW YORK !     4632   \n",
              "3  3831                   Cozy Entire Floor of Brownstone     4869   \n",
              "4  5022  Entire Apt: Spacious Studio/Loft by central park     7192   \n",
              "\n",
              "     host_name neighbourhood_group neighbourhood  latitude  longitude  \\\n",
              "0         John            Brooklyn    Kensington  40.64749  -73.97237   \n",
              "1     Jennifer           Manhattan       Midtown  40.75362  -73.98377   \n",
              "2    Elisabeth           Manhattan        Harlem  40.80902  -73.94190   \n",
              "3  LisaRoxanne            Brooklyn  Clinton Hill  40.68514  -73.95976   \n",
              "4        Laura           Manhattan   East Harlem  40.79851  -73.94399   \n",
              "\n",
              "         room_type  price  minimum_nights  number_of_reviews last_review  \\\n",
              "0     Private room    149               1                  9  2018-10-19   \n",
              "1  Entire home/apt    225               1                 45  2019-05-21   \n",
              "2     Private room    150               3                  0         NaN   \n",
              "3  Entire home/apt     89               1                270  2019-07-05   \n",
              "4  Entire home/apt     80              10                  9  2018-11-19   \n",
              "\n",
              "   reviews_per_month  calculated_host_listings_count  availability_365  \\\n",
              "0               0.21                               6               365   \n",
              "1               0.38                               2               355   \n",
              "2                NaN                               1               365   \n",
              "3               4.64                               1               194   \n",
              "4               0.10                               1                 0   \n",
              "\n",
              "   popularity_index  region_price_margin  \n",
              "0          0.000008            24.616793  \n",
              "1          0.000040            28.124186  \n",
              "2          0.000000           -46.875814  \n",
              "3          0.000237           -35.383207  \n",
              "4          0.000008          -116.875814  "
            ],
            "text/html": [
              "<div>\n",
              "<style scoped>\n",
              "    .dataframe tbody tr th:only-of-type {\n",
              "        vertical-align: middle;\n",
              "    }\n",
              "\n",
              "    .dataframe tbody tr th {\n",
              "        vertical-align: top;\n",
              "    }\n",
              "\n",
              "    .dataframe thead th {\n",
              "        text-align: right;\n",
              "    }\n",
              "</style>\n",
              "<table border=\"1\" class=\"dataframe\">\n",
              "  <thead>\n",
              "    <tr style=\"text-align: right;\">\n",
              "      <th></th>\n",
              "      <th>id</th>\n",
              "      <th>name</th>\n",
              "      <th>host_id</th>\n",
              "      <th>host_name</th>\n",
              "      <th>neighbourhood_group</th>\n",
              "      <th>neighbourhood</th>\n",
              "      <th>latitude</th>\n",
              "      <th>longitude</th>\n",
              "      <th>room_type</th>\n",
              "      <th>price</th>\n",
              "      <th>minimum_nights</th>\n",
              "      <th>number_of_reviews</th>\n",
              "      <th>last_review</th>\n",
              "      <th>reviews_per_month</th>\n",
              "      <th>calculated_host_listings_count</th>\n",
              "      <th>availability_365</th>\n",
              "      <th>popularity_index</th>\n",
              "      <th>region_price_margin</th>\n",
              "    </tr>\n",
              "  </thead>\n",
              "  <tbody>\n",
              "    <tr>\n",
              "      <th>0</th>\n",
              "      <td>2539</td>\n",
              "      <td>Clean &amp; quiet apt home by the park</td>\n",
              "      <td>2787</td>\n",
              "      <td>John</td>\n",
              "      <td>Brooklyn</td>\n",
              "      <td>Kensington</td>\n",
              "      <td>40.64749</td>\n",
              "      <td>-73.97237</td>\n",
              "      <td>Private room</td>\n",
              "      <td>149</td>\n",
              "      <td>1</td>\n",
              "      <td>9</td>\n",
              "      <td>2018-10-19</td>\n",
              "      <td>0.21</td>\n",
              "      <td>6</td>\n",
              "      <td>365</td>\n",
              "      <td>0.000008</td>\n",
              "      <td>24.616793</td>\n",
              "    </tr>\n",
              "    <tr>\n",
              "      <th>1</th>\n",
              "      <td>2595</td>\n",
              "      <td>Skylit Midtown Castle</td>\n",
              "      <td>2845</td>\n",
              "      <td>Jennifer</td>\n",
              "      <td>Manhattan</td>\n",
              "      <td>Midtown</td>\n",
              "      <td>40.75362</td>\n",
              "      <td>-73.98377</td>\n",
              "      <td>Entire home/apt</td>\n",
              "      <td>225</td>\n",
              "      <td>1</td>\n",
              "      <td>45</td>\n",
              "      <td>2019-05-21</td>\n",
              "      <td>0.38</td>\n",
              "      <td>2</td>\n",
              "      <td>355</td>\n",
              "      <td>0.000040</td>\n",
              "      <td>28.124186</td>\n",
              "    </tr>\n",
              "    <tr>\n",
              "      <th>2</th>\n",
              "      <td>3647</td>\n",
              "      <td>THE VILLAGE OF HARLEM....NEW YORK !</td>\n",
              "      <td>4632</td>\n",
              "      <td>Elisabeth</td>\n",
              "      <td>Manhattan</td>\n",
              "      <td>Harlem</td>\n",
              "      <td>40.80902</td>\n",
              "      <td>-73.94190</td>\n",
              "      <td>Private room</td>\n",
              "      <td>150</td>\n",
              "      <td>3</td>\n",
              "      <td>0</td>\n",
              "      <td>NaN</td>\n",
              "      <td>NaN</td>\n",
              "      <td>1</td>\n",
              "      <td>365</td>\n",
              "      <td>0.000000</td>\n",
              "      <td>-46.875814</td>\n",
              "    </tr>\n",
              "    <tr>\n",
              "      <th>3</th>\n",
              "      <td>3831</td>\n",
              "      <td>Cozy Entire Floor of Brownstone</td>\n",
              "      <td>4869</td>\n",
              "      <td>LisaRoxanne</td>\n",
              "      <td>Brooklyn</td>\n",
              "      <td>Clinton Hill</td>\n",
              "      <td>40.68514</td>\n",
              "      <td>-73.95976</td>\n",
              "      <td>Entire home/apt</td>\n",
              "      <td>89</td>\n",
              "      <td>1</td>\n",
              "      <td>270</td>\n",
              "      <td>2019-07-05</td>\n",
              "      <td>4.64</td>\n",
              "      <td>1</td>\n",
              "      <td>194</td>\n",
              "      <td>0.000237</td>\n",
              "      <td>-35.383207</td>\n",
              "    </tr>\n",
              "    <tr>\n",
              "      <th>4</th>\n",
              "      <td>5022</td>\n",
              "      <td>Entire Apt: Spacious Studio/Loft by central park</td>\n",
              "      <td>7192</td>\n",
              "      <td>Laura</td>\n",
              "      <td>Manhattan</td>\n",
              "      <td>East Harlem</td>\n",
              "      <td>40.79851</td>\n",
              "      <td>-73.94399</td>\n",
              "      <td>Entire home/apt</td>\n",
              "      <td>80</td>\n",
              "      <td>10</td>\n",
              "      <td>9</td>\n",
              "      <td>2018-11-19</td>\n",
              "      <td>0.10</td>\n",
              "      <td>1</td>\n",
              "      <td>0</td>\n",
              "      <td>0.000008</td>\n",
              "      <td>-116.875814</td>\n",
              "    </tr>\n",
              "  </tbody>\n",
              "</table>\n",
              "</div>"
            ]
          },
          "metadata": {
            "tags": []
          },
          "execution_count": 35
        }
      ]
    }
  ]
}